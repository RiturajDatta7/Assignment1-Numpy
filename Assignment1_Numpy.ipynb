{
  "nbformat": 4,
  "nbformat_minor": 0,
  "metadata": {
    "colab": {
      "provenance": []
    },
    "kernelspec": {
      "name": "python3",
      "display_name": "Python 3"
    },
    "language_info": {
      "name": "python"
    }
  },
  "cells": [
    {
      "cell_type": "markdown",
      "source": [
        "**Assignment-1: NumPy**"
      ],
      "metadata": {
        "id": "3lnxGl4kGbLn"
      }
    },
    {
      "cell_type": "code",
      "source": [
        "import numpy as np"
      ],
      "metadata": {
        "id": "c7QVKgu-F7J1"
      },
      "execution_count": 3,
      "outputs": []
    },
    {
      "cell_type": "markdown",
      "source": [
        "1. Create a null vector of size 10 but the fifth value which is 1."
      ],
      "metadata": {
        "id": "BCkNTxgdGUbV"
      }
    },
    {
      "cell_type": "code",
      "execution_count": 4,
      "metadata": {
        "colab": {
          "base_uri": "https://localhost:8080/"
        },
        "id": "G2VpzRwyFv-a",
        "outputId": "98a4142c-540b-4fb7-cf27-ab677b9bd4fb"
      },
      "outputs": [
        {
          "output_type": "stream",
          "name": "stdout",
          "text": [
            "Null vector of size 10 with the fifth value as 1:  [0. 0. 0. 0. 1. 0. 0. 0. 0. 0.]\n"
          ]
        }
      ],
      "source": [
        "null_vector = np.zeros(10)\n",
        "null_vector[4] = 1\n",
        "print(\"Null vector of size 10 with the fifth value as 1: \", null_vector)"
      ]
    },
    {
      "cell_type": "markdown",
      "source": [
        "2. Create a vector with values ranging from 10 to 49."
      ],
      "metadata": {
        "id": "OTsWYMWWGqJL"
      }
    },
    {
      "cell_type": "code",
      "source": [
        "vector = np.arange(10, 50)\n",
        "print(\"Vector with values ranging from 10 to 49: \", vector)"
      ],
      "metadata": {
        "colab": {
          "base_uri": "https://localhost:8080/"
        },
        "id": "u6XaeBSQF43v",
        "outputId": "9da99096-51e2-4ea1-fdc4-eec9debae3f8"
      },
      "execution_count": 5,
      "outputs": [
        {
          "output_type": "stream",
          "name": "stdout",
          "text": [
            "Vector with values ranging from 10 to 49:  [10 11 12 13 14 15 16 17 18 19 20 21 22 23 24 25 26 27 28 29 30 31 32 33\n",
            " 34 35 36 37 38 39 40 41 42 43 44 45 46 47 48 49]\n"
          ]
        }
      ]
    },
    {
      "cell_type": "markdown",
      "source": [
        "3. Create a 3x3 matrix with values ranging from 0 to 8"
      ],
      "metadata": {
        "id": "Md0nonAYGukN"
      }
    },
    {
      "cell_type": "code",
      "source": [
        "matrix = np.arange(0, 9).reshape(3, 3)\n",
        "print(\"3x3 matrix with values ranging from 0 to 8: \\n\", matrix)"
      ],
      "metadata": {
        "colab": {
          "base_uri": "https://localhost:8080/"
        },
        "id": "939IGRXuGAeu",
        "outputId": "c4c7d2e0-8e6e-4382-c6b4-9c13b4814f96"
      },
      "execution_count": 6,
      "outputs": [
        {
          "output_type": "stream",
          "name": "stdout",
          "text": [
            "3x3 matrix with values ranging from 0 to 8: \n",
            " [[0 1 2]\n",
            " [3 4 5]\n",
            " [6 7 8]]\n"
          ]
        }
      ]
    },
    {
      "cell_type": "markdown",
      "source": [
        "4. Find indices of non-zero elements from [1,2,0,0,4,0]"
      ],
      "metadata": {
        "id": "AZI3OFcIGybd"
      }
    },
    {
      "cell_type": "code",
      "source": [
        "arr = np.array([1, 2, 0, 0, 4, 0])\n",
        "non_zero_indices = np.nonzero(arr)\n",
        "print(\"Indices of non-zero elements from [1,2,0,0,4,0]: \", non_zero_indices)"
      ],
      "metadata": {
        "colab": {
          "base_uri": "https://localhost:8080/"
        },
        "id": "MbgnSifmGER6",
        "outputId": "d42b2687-136e-4ba7-ff33-f118b989dd4d"
      },
      "execution_count": 7,
      "outputs": [
        {
          "output_type": "stream",
          "name": "stdout",
          "text": [
            "Indices of non-zero elements from [1,2,0,0,4,0]:  (array([0, 1, 4]),)\n"
          ]
        }
      ]
    },
    {
      "cell_type": "markdown",
      "source": [
        "5. Create a 10x10 array with random values and find the minimum and maximum values."
      ],
      "metadata": {
        "id": "2hkAcdCcG2Jj"
      }
    },
    {
      "cell_type": "code",
      "source": [
        "array = np.random.rand(10, 10)\n",
        "min_val = np.min(array)\n",
        "max_val = np.max(array)\n",
        "print(\"10x10 array with random values: \\n\", array)\n",
        "print(\"Minimum value: \", min_val)\n",
        "print(\"Maximum value: \", max_val)"
      ],
      "metadata": {
        "colab": {
          "base_uri": "https://localhost:8080/"
        },
        "id": "tkfYFDp3GIEd",
        "outputId": "164386ab-a655-40d8-9bd0-548d8429dcfe"
      },
      "execution_count": 8,
      "outputs": [
        {
          "output_type": "stream",
          "name": "stdout",
          "text": [
            "10x10 array with random values: \n",
            " [[0.17740894 0.57928011 0.2069229  0.46819193 0.25075462 0.95959354\n",
            "  0.43438529 0.02766828 0.77854852 0.27585283]\n",
            " [0.78417741 0.29996643 0.13636571 0.5296828  0.54427109 0.72978109\n",
            "  0.63561675 0.16470936 0.01619121 0.21125119]\n",
            " [0.2117895  0.31439422 0.15437708 0.93873517 0.46659294 0.82533554\n",
            "  0.05748279 0.85044593 0.47116733 0.57932314]\n",
            " [0.35182174 0.60868954 0.02052261 0.05098165 0.82519736 0.98197743\n",
            "  0.96538555 0.98923171 0.6640837  0.75694834]\n",
            " [0.47382286 0.45728844 0.89218809 0.43755195 0.28174384 0.95026385\n",
            "  0.4370097  0.2191619  0.47999426 0.08973063]\n",
            " [0.11953078 0.11135614 0.61336643 0.00848956 0.70826014 0.60425555\n",
            "  0.07764366 0.75233149 0.04411564 0.1848576 ]\n",
            " [0.78798086 0.0827253  0.90038098 0.8846169  0.32820853 0.695628\n",
            "  0.8883527  0.94225568 0.12197422 0.89605274]\n",
            " [0.69873699 0.43844929 0.12266029 0.14751282 0.59933354 0.98993569\n",
            "  0.4146051  0.52717335 0.31765931 0.09631794]\n",
            " [0.68965757 0.91788505 0.32549532 0.73973978 0.00189866 0.61734044\n",
            "  0.85384473 0.08897981 0.35460848 0.04273894]\n",
            " [0.57024088 0.37987964 0.47878283 0.80016935 0.34655819 0.57865185\n",
            "  0.75898212 0.19949647 0.76162753 0.86187725]]\n",
            "Minimum value:  0.001898656864026349\n",
            "Maximum value:  0.9899356878423984\n"
          ]
        }
      ]
    },
    {
      "cell_type": "markdown",
      "source": [
        "6. Create a random vector of size 30 and find the mean value."
      ],
      "metadata": {
        "id": "lFLjHZGqG-bL"
      }
    },
    {
      "cell_type": "code",
      "source": [
        "random_vector = np.random.rand(30)\n",
        "mean_value = np.mean(random_vector)\n",
        "print(\"Random vector of size 30: \", random_vector)\n",
        "print(\"Mean value: \", mean_value)"
      ],
      "metadata": {
        "colab": {
          "base_uri": "https://localhost:8080/"
        },
        "id": "sO5qmt6MGKRN",
        "outputId": "d34681c8-a29c-4232-ead9-7aeb324017e8"
      },
      "execution_count": 9,
      "outputs": [
        {
          "output_type": "stream",
          "name": "stdout",
          "text": [
            "Random vector of size 30:  [0.06376209 0.67129307 0.03072544 0.86509415 0.97214354 0.96687144\n",
            " 0.65209159 0.66386522 0.54367527 0.54095009 0.1875014  0.89815856\n",
            " 0.0697913  0.93227309 0.09368711 0.85649792 0.41977849 0.18011482\n",
            " 0.21310084 0.54269484 0.36993219 0.70546203 0.90618543 0.1769557\n",
            " 0.39409397 0.24185985 0.22071335 0.80373636 0.0187751  0.85880632]\n",
            "Mean value:  0.5020196860054413\n"
          ]
        }
      ]
    }
  ]
}